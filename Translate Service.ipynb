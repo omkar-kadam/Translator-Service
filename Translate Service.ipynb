{
 "cells": [
  {
   "cell_type": "code",
   "execution_count": 1,
   "metadata": {},
   "outputs": [
    {
     "name": "stdout",
     "output_type": "stream",
     "text": [
      "Enter the text you want to translate (English): You are doing great!\n",
      "Which language you want to translate in : French\n",
      "\n",
      "You are doing great! -> Tu te débrouilles bien!\n",
      "Do you want to translate some more crap ?No\n"
     ]
    }
   ],
   "source": [
    "import requests\n",
    "from bs4 import BeautifulSoup\n",
    "from selenium import webdriver\n",
    "from selenium.webdriver.common.keys import Keys\n",
    "from selenium.webdriver.chrome.options import Options\n",
    "from urllib.parse import quote\n",
    "from time import sleep\n",
    "url = 'https://translate.google.com'\n",
    "\n",
    "def lang_set(lang):\n",
    "    languages_set = {'afrikaans':'af','albanian':'sq','amharic':'am','arabic':'ar','armenian':'hy','azerbaijani':'az','basque':'eu','belarusian':'be','bengali':'bn','bosnian':'bs','bulgarian':'bg','catalan':'ca','cebuano':'ceb','chichewa':'ny','chinese (simplified)':'zh-CN','chinese (traditional)':'zh-TW','corsican':'co','croatian':'hr','czech':'cs','danish':'da','dutch':'nl','english':'en','esperanto':'eo','estonian':'et','filipino':'tl','finnish':'fi','french':'fr','frisian':'fy','galician':'gl','georgian':'ka','german':'de','greek':'el','gujarati':'gu','haitian creole':'ht','hausa':'ha','hawaiian':'haw','hebrew':'iw','hindi':'hi','hmong':'hmn','hungarian':'hu','icelandic':'is','igbo':'ig','indonesian':'id','irish':'ga','italian':'it','japanese':'ja','javanese':'jw','kannada':'kn','kazakh':'kk','khmer':'km','korean':'ko','kurdish (kurmanji)':'ku','kyrgyz':'ky','lao':'lo','latin':'la','latvian':'lv','lithuanian':'lt','luxembourgish':'lb','macedonian':'mk','malagasy':'mg','malay':'ms','malayalam':'ml','maltese':'mt','maori':'mi','marathi':'mr','mongolian':'mn','myanmar (burmese)':'my','nepali':'ne','norwegian':'no','pashto':'ps','persian':'fa','polish':'pl','portuguese':'pt','punjabi':'pa','romanian':'ro','russian':'ru','samoan':'sm','scots gaelic':'gd','serbian':'sr','sesotho':'st','shona':'sn','sindhi':'sd','sinhala':'si','slovak':'sk','slovenian':'sl','somali':'so','spanish':'es','sundanese':'su','swahili':'sw','swedish':'sv','tajik':'tg','tamil':'ta','telugu':'te','thai':'th','turkish':'tr','ukrainian':'uk','urdu':'ur','uzbek':'uz','vietnamese':'vi','welsh':'cy','xhosa':'xh','yiddish':'yi','yoruba':'yo','zulu':'zu'}\n",
    "    if lang.lower() in languages_set:\n",
    "            return languages_set[lang.lower()]\n",
    "    return False\n",
    "    \n",
    "    \n",
    "def gen_url(tl,text):\n",
    "    url = 'https://translate.google.com/#view=home&op=translate&sl=en&tl='+tl+'&text='\n",
    "    trans_text = quote(text,safe='')\n",
    "    return url+trans_text\n",
    "\n",
    "\n",
    "\n",
    "def translate_service(url):\n",
    "    options = Options()\n",
    "    options.add_argument('--headless')\n",
    "    driver = webdriver.Chrome(options=options)\n",
    "    driver.get(url)\n",
    "    sleep(1)\n",
    "    res = driver.find_element_by_class_name('homepage-content-wrap')\n",
    "    sleep(1)\n",
    "    htmpage = driver.execute_script(\"return arguments[0].innerHTML;\",res)\n",
    "\n",
    "    soup = BeautifulSoup(htmpage,'html5lib')\n",
    "    input_div = soup.find('div',{'class':'source-target-row'})\n",
    "    try:\n",
    "        inp = input_div.find('div',{'class':'tlid-results-container results-container'})\n",
    "        translated_text = (inp.find('div',{'class':'result-shield-container tlid-copy-target'})).span.span.text\n",
    "        return translated_text\n",
    "    except:\n",
    "        return False\n",
    "\n",
    "flg = True\n",
    "while flg:\n",
    "    get_text = (input('Enter the text you want to translate (English): '))[:5000]\n",
    "    get_lang = input('Which language you want to translate in : ')\n",
    "\n",
    "    if get_lang and lang_set(get_lang):\n",
    "        url = gen_url(lang_set(get_lang),get_text)\n",
    "        trans_text = translate_service(url)\n",
    "        if trans_text:\n",
    "            print('\\n' + get_text + ' -> ' + trans_text)\n",
    "        else:\n",
    "            print('Error in Translating Service')\n",
    "        sleep(2)\n",
    "    else:\n",
    "        print(\"Language Not Available\")\n",
    "        sleep(2)\n",
    "    prompt = input('Do you want to translate some more crap ?')\n",
    "    if prompt.lower() == 'y' or prompt.lower() == 'yes':\n",
    "        flg = True\n",
    "    else:\n",
    "        flg = False"
   ]
  },
  {
   "cell_type": "code",
   "execution_count": null,
   "metadata": {},
   "outputs": [],
   "source": []
  },
  {
   "cell_type": "code",
   "execution_count": null,
   "metadata": {},
   "outputs": [],
   "source": [
    "# Testing CODE"
   ]
  },
  {
   "cell_type": "code",
   "execution_count": null,
   "metadata": {},
   "outputs": [],
   "source": [
    "'''\n",
    "soup = BeautifulSoup(htmtags,'html5lib')\n",
    "langdiv = soup.findAll('div',{'class':'language_list_section'})[1]\n",
    "langdiv = langdiv.findAll('div',{'role':'button'})\n",
    "\n",
    "code_map = {}\n",
    "for each in langdiv:\n",
    "    code = (each['class'][1]).split('-')[-1]\n",
    "    \n",
    "    code_map[((each.find('div',{'class':'language_list_item language_list_item_language_name'})).text).lower] = code\n",
    "    \n",
    "    \n",
    "    \n",
    "code_map\n",
    "'''\n",
    "\n",
    "driver = webdriver.Chrome()\n",
    "driver.get('https://translate.google.com/#view=home&op=translate&sl=en&tl=de&text=Hello')\n",
    "sleep(1)\n",
    "res = driver.find_element_by_class_name('homepage-content-wrap')\n",
    "sleep(1)\n",
    "htmpage = driver.execute_script(\"return arguments[0].innerHTML;\",res)\n",
    "\n",
    "soup = BeautifulSoup(htmpage,'html5lib')\n",
    "input_div = soup.find('div',{'class':'source-target-row'})\n",
    "inp = input_div.find('div',{'class':'tlid-results-container results-container'})\n",
    "translated_text = (inp.find('div',{'class':'result-shield-container tlid-copy-target'})).span.span.text\n",
    "\n",
    "soup = BeautifulSoup(htmpage,'html5lib')\n",
    "input_div = soup.find('div',{'class':'source-target-row'})\n",
    "inp = input_div.find('div',{'class':'tlid-results-container results-container'})\n",
    "(inp.find('div',{'class':'result-shield-container tlid-copy-target'})).span.span.text\n",
    "\n"
   ]
  }
 ],
 "metadata": {
  "kernelspec": {
   "display_name": "Python 3",
   "language": "python",
   "name": "python3"
  },
  "language_info": {
   "codemirror_mode": {
    "name": "ipython",
    "version": 3
   },
   "file_extension": ".py",
   "mimetype": "text/x-python",
   "name": "python",
   "nbconvert_exporter": "python",
   "pygments_lexer": "ipython3",
   "version": "3.7.3"
  }
 },
 "nbformat": 4,
 "nbformat_minor": 2
}
